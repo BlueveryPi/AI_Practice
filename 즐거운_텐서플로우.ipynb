{
  "nbformat": 4,
  "nbformat_minor": 0,
  "metadata": {
    "colab": {
      "name": "즐거운 텐서플로우",
      "provenance": [],
      "authorship_tag": "ABX9TyMw11+Ia/R6wBCfu63g0lMk",
      "include_colab_link": true
    },
    "kernelspec": {
      "name": "python3",
      "display_name": "Python 3"
    }
  },
  "cells": [
    {
      "cell_type": "markdown",
      "metadata": {
        "id": "view-in-github",
        "colab_type": "text"
      },
      "source": [
        "<a href=\"https://colab.research.google.com/github/BlueveryPi/AI_Practice/blob/main/%EC%A6%90%EA%B1%B0%EC%9A%B4_%ED%85%90%EC%84%9C%ED%94%8C%EB%A1%9C%EC%9A%B0.ipynb\" target=\"_parent\"><img src=\"https://colab.research.google.com/assets/colab-badge.svg\" alt=\"Open In Colab\"/></a>"
      ]
    },
    {
      "cell_type": "code",
      "metadata": {
        "colab": {
          "base_uri": "https://localhost:8080/"
        },
        "id": "r3d7GJBYkdjZ",
        "outputId": "f16a9464-66b7-4755-ebb7-4962c8466a2b"
      },
      "source": [
        "import tensorflow as tf\r\n",
        "tf.random.set_seed(777)\r\n",
        "\r\n",
        "import numpy as np\r\n",
        "from tensorflow.keras.datasets.mnist import load_data\r\n",
        "from tensorflow.keras.models import Sequential\r\n",
        "from tensorflow.keras.layers import Dense\r\n",
        "from tensorflow.keras.optimizers import SGD\r\n",
        "from tensorflow.keras.utils import to_categorical\r\n",
        "from sklearn.model_selection import train_test_split\r\n",
        "\r\n",
        "(x_train, y_train), (x_test, y_test)=load_data(path=\"mmist.npz\")\r\n",
        "x_train, x_val, y_train, y_val=train_test_split(x_train, y_train, test_size=0.3, random_state=777)\r\n",
        "\r\n",
        "num_x_train=x_train.shape[0]\r\n",
        "num_x_val=x_val.shape[0]\r\n",
        "num_x_test=x_test.shape[0]\r\n",
        "\r\n",
        "x_train=(x_train.reshape((num_x_train, 28*28)))/255\r\n",
        "x_val=(x_val.reshape((num_x_val, 28*28)))/255\r\n",
        "x_test=(x_test.reshape((num_x_test, 28*28)))/255\r\n",
        "\r\n",
        "y_train=to_categorical(y_train)\r\n",
        "y_val=to_categorical(y_val)\r\n",
        "y_test=to_categorical(y_test)\r\n",
        "\r\n",
        "model=Sequential()\r\n",
        "model.add(Dense(64, activation=\"relu\", input_shape=(784, )))\r\n",
        "model.add(Dense(32, activation=\"relu\"))\r\n",
        "model.add(Dense(10, activation=\"softmax\"))\r\n",
        "\r\n",
        "model.compile(optimizer=\"adam\", loss=\"categorical_crossentropy\", metrics=[\"acc\"])\r\n",
        "\r\n",
        "history=model.fit(x_train, y_train, epochs=30, batch_size=128, validation_data=(x_val, y_val))\r\n",
        "\r\n",
        "model.evaluate(x_test, y_test)\r\n",
        "result=model.predict(x_test)"
      ],
      "execution_count": null,
      "outputs": [
        {
          "output_type": "stream",
          "text": [
            "Downloading data from https://storage.googleapis.com/tensorflow/tf-keras-datasets/mnist.npz\n",
            "11493376/11490434 [==============================] - 0s 0us/step\n",
            "Epoch 1/30\n",
            "329/329 [==============================] - 2s 4ms/step - loss: 0.9037 - acc: 0.7209 - val_loss: 0.2538 - val_acc: 0.9278\n",
            "Epoch 2/30\n",
            "329/329 [==============================] - 1s 3ms/step - loss: 0.2275 - acc: 0.9341 - val_loss: 0.1854 - val_acc: 0.9469\n",
            "Epoch 3/30\n",
            "329/329 [==============================] - 1s 3ms/step - loss: 0.1633 - acc: 0.9522 - val_loss: 0.1609 - val_acc: 0.9536\n",
            "Epoch 4/30\n",
            "329/329 [==============================] - 1s 3ms/step - loss: 0.1300 - acc: 0.9612 - val_loss: 0.1350 - val_acc: 0.9599\n",
            "Epoch 5/30\n",
            "329/329 [==============================] - 1s 3ms/step - loss: 0.1050 - acc: 0.9690 - val_loss: 0.1265 - val_acc: 0.9626\n",
            "Epoch 6/30\n",
            "329/329 [==============================] - 1s 3ms/step - loss: 0.0903 - acc: 0.9735 - val_loss: 0.1185 - val_acc: 0.9654\n",
            "Epoch 7/30\n",
            "329/329 [==============================] - 1s 3ms/step - loss: 0.0737 - acc: 0.9779 - val_loss: 0.1135 - val_acc: 0.9653\n",
            "Epoch 8/30\n",
            "329/329 [==============================] - 1s 3ms/step - loss: 0.0695 - acc: 0.9801 - val_loss: 0.1144 - val_acc: 0.9653\n",
            "Epoch 9/30\n",
            "329/329 [==============================] - 1s 3ms/step - loss: 0.0603 - acc: 0.9823 - val_loss: 0.1087 - val_acc: 0.9669\n",
            "Epoch 10/30\n",
            "329/329 [==============================] - 1s 3ms/step - loss: 0.0478 - acc: 0.9865 - val_loss: 0.1022 - val_acc: 0.9695\n",
            "Epoch 11/30\n",
            "329/329 [==============================] - 1s 3ms/step - loss: 0.0435 - acc: 0.9865 - val_loss: 0.1032 - val_acc: 0.9694\n",
            "Epoch 12/30\n",
            "329/329 [==============================] - 1s 3ms/step - loss: 0.0392 - acc: 0.9886 - val_loss: 0.1054 - val_acc: 0.9697\n",
            "Epoch 13/30\n",
            "329/329 [==============================] - 1s 3ms/step - loss: 0.0348 - acc: 0.9905 - val_loss: 0.1032 - val_acc: 0.9703\n",
            "Epoch 14/30\n",
            "329/329 [==============================] - 1s 3ms/step - loss: 0.0309 - acc: 0.9915 - val_loss: 0.1096 - val_acc: 0.9691\n",
            "Epoch 15/30\n",
            "329/329 [==============================] - 1s 3ms/step - loss: 0.0252 - acc: 0.9932 - val_loss: 0.1163 - val_acc: 0.9669\n",
            "Epoch 16/30\n",
            "329/329 [==============================] - 1s 3ms/step - loss: 0.0272 - acc: 0.9920 - val_loss: 0.1050 - val_acc: 0.9696\n",
            "Epoch 17/30\n",
            "329/329 [==============================] - 1s 3ms/step - loss: 0.0194 - acc: 0.9943 - val_loss: 0.1112 - val_acc: 0.9699\n",
            "Epoch 18/30\n",
            "329/329 [==============================] - 1s 3ms/step - loss: 0.0213 - acc: 0.9943 - val_loss: 0.1080 - val_acc: 0.9722\n",
            "Epoch 19/30\n",
            "329/329 [==============================] - 1s 3ms/step - loss: 0.0151 - acc: 0.9963 - val_loss: 0.1133 - val_acc: 0.9707\n",
            "Epoch 20/30\n",
            "329/329 [==============================] - 1s 3ms/step - loss: 0.0137 - acc: 0.9965 - val_loss: 0.1111 - val_acc: 0.9711\n",
            "Epoch 21/30\n",
            "329/329 [==============================] - 1s 3ms/step - loss: 0.0130 - acc: 0.9969 - val_loss: 0.1188 - val_acc: 0.9702\n",
            "Epoch 22/30\n",
            "329/329 [==============================] - 1s 3ms/step - loss: 0.0115 - acc: 0.9973 - val_loss: 0.1300 - val_acc: 0.9693\n",
            "Epoch 23/30\n",
            "329/329 [==============================] - 1s 3ms/step - loss: 0.0108 - acc: 0.9977 - val_loss: 0.1337 - val_acc: 0.9691\n",
            "Epoch 24/30\n",
            "329/329 [==============================] - 1s 3ms/step - loss: 0.0114 - acc: 0.9968 - val_loss: 0.1325 - val_acc: 0.9701\n",
            "Epoch 25/30\n",
            "329/329 [==============================] - 1s 3ms/step - loss: 0.0099 - acc: 0.9970 - val_loss: 0.1481 - val_acc: 0.9668\n",
            "Epoch 26/30\n",
            "329/329 [==============================] - 1s 3ms/step - loss: 0.0099 - acc: 0.9973 - val_loss: 0.1339 - val_acc: 0.9702\n",
            "Epoch 27/30\n",
            "329/329 [==============================] - 1s 3ms/step - loss: 0.0069 - acc: 0.9983 - val_loss: 0.1305 - val_acc: 0.9715\n",
            "Epoch 28/30\n",
            "329/329 [==============================] - 1s 3ms/step - loss: 0.0052 - acc: 0.9988 - val_loss: 0.1309 - val_acc: 0.9717\n",
            "Epoch 29/30\n",
            "329/329 [==============================] - 1s 3ms/step - loss: 0.0109 - acc: 0.9969 - val_loss: 0.1344 - val_acc: 0.9717\n",
            "Epoch 30/30\n",
            "329/329 [==============================] - 1s 3ms/step - loss: 0.0086 - acc: 0.9973 - val_loss: 0.1368 - val_acc: 0.9710\n",
            "313/313 [==============================] - 0s 996us/step - loss: 0.1363 - acc: 0.9726\n"
          ],
          "name": "stdout"
        }
      ]
    },
    {
      "cell_type": "code",
      "metadata": {
        "colab": {
          "base_uri": "https://localhost:8080/",
          "height": 334
        },
        "id": "6wb5teb8t4I4",
        "outputId": "73160ab7-80ee-4117-9329-469a84608b5b"
      },
      "source": [
        "import matplotlib.pyplot as plt\r\n",
        "\r\n",
        "history_dict=history.history\r\n",
        "acc=history_dict[\"acc\"]\r\n",
        "loss=history_dict[\"loss\"]\r\n",
        "val_acc=history_dict[\"val_acc\"]\r\n",
        "val_loss=history_dict[\"val_loss\"]\r\n",
        "\r\n",
        "epochs=range(1,len(loss)+1)\r\n",
        "fig=plt.figure(figsize=(10,5))\r\n",
        "\r\n",
        "ax1=fig.add_subplot(1, 2,1)\r\n",
        "ax1.plot(epochs, loss, color=\"blue\", label=\"train_loss\")\r\n",
        "ax1.plot(epochs, val_loss, color=\"orange\", label=\"val_loss\")\r\n",
        "ax1.plot(epochs, acc, color=\"green\", label=\"train_acc\")\r\n",
        "ax1.plot(epochs, val_acc, color=\"red\", label=\"val_acc\")\r\n",
        "ax1.set_xlabel(\"epochs\")\r\n",
        "ax1.set_ylabel(\"whatever\")\r\n",
        "ax1.legend()\r\n",
        "\r\n",
        "plt.show()"
      ],
      "execution_count": null,
      "outputs": [
        {
          "output_type": "display_data",
          "data": {
            "image/png": "[encoded data removed]",
            "text/plain": [
              "<Figure size 720x360 with 1 Axes>"
            ]
          },
          "metadata": {
            "tags": [],
            "needs_background": "light"
          }
        }
      ]
    },
    {
      "cell_type": "code",
      "metadata": {
        "colab": {
          "base_uri": "https://localhost:8080/",
          "height": 476
        },
        "id": "l-yB_4MxHjZw",
        "outputId": "e2744cc2-335b-47f1-bdcb-ba2f31668201"
      },
      "source": [
        "import numpy as np\r\n",
        "import matplotlib.pyplot as plt\r\n",
        "\r\n",
        "test=100\r\n",
        "\r\n",
        "results=model.predict(x_test)\r\n",
        "print(result.shape)\r\n",
        "np.set_printoptions(precision=test)\r\n",
        "indx=0\r\n",
        "for p in results[test]:\r\n",
        "    print(str(indx)+\":  \"+str(int(float(p)*100))+\"%\")\r\n",
        "    indx+=1\r\n",
        "\r\n",
        "arg_results=np.argmax(results, axis=-1)\r\n",
        "plt.imshow(x_test[test].reshape(28, 28))\r\n",
        "plt.title(\"prediction: \"+str(arg_results[test]))\r\n",
        "plt.show()"
      ],
      "execution_count": null,
      "outputs": [
        {
          "output_type": "stream",
          "text": [
            "(10000, 10)\n",
            "0:  0%\n",
            "1:  0%\n",
            "2:  0%\n",
            "3:  0%\n",
            "4:  0%\n",
            "5:  0%\n",
            "6:  99%\n",
            "7:  0%\n",
            "8:  0%\n",
            "9:  0%\n"
          ],
          "name": "stdout"
        },
        {
          "output_type": "display_data",
          "data": {
            "image/png": "[encoded data removed]",
            "text/plain": [
              "<Figure size 432x288 with 1 Axes>"
            ]
          },
          "metadata": {
            "tags": [],
            "needs_background": "light"
          }
        }
      ]
    },
    {
      "cell_type": "markdown",
      "metadata": {
        "id": "ClttWAqAXKKX"
      },
      "source": [
        "Q-Learning 가즈아ㅏㅏㅏㅏㅏㅏㅏㅏㅏㅏ"
      ]
    },
    {
      "cell_type": "code",
      "metadata": {
        "colab": {
          "base_uri": "https://localhost:8080/"
        },
        "id": "HZ_-drg_XRhK",
        "outputId": "42af5050-46ee-459f-ca55-a4f68a3de8f5"
      },
      "source": [
        "import gym\r\n",
        "\r\n",
        "env=gym.make(\"Taxi-v3\").env\r\n",
        "env.render()"
      ],
      "execution_count": null,
      "outputs": [
        {
          "output_type": "stream",
          "text": [
            "+---------+\n",
            "|R: | : :\u001b[34;1mG\u001b[0m|\n",
            "| : | : : |\n",
            "| : : : : |\n",
            "| | : | : |\n",
            "|\u001b[35mY\u001b[0m| : |B:\u001b[43m \u001b[0m|\n",
            "+---------+\n",
            "\n"
          ],
          "name": "stdout"
        }
      ]
    },
    {
      "cell_type": "code",
      "metadata": {
        "colab": {
          "base_uri": "https://localhost:8080/"
        },
        "id": "ka-xe8c7eWIS",
        "outputId": "4fc686ec-ff31-4432-b73a-c2bf29013686"
      },
      "source": [
        "state=env.encode(1, 2, 3, 2)\r\n",
        "print(\"state:\", state)\r\n",
        "env.s=state\r\n",
        "env.render()\r\n",
        "env.P[state]"
      ],
      "execution_count": null,
      "outputs": [
        {
          "output_type": "stream",
          "text": [
            "state: 154\n",
            "+---------+\n",
            "|R: | : :G|\n",
            "| : |\u001b[43m \u001b[0m: : |\n",
            "| : : : : |\n",
            "| | : | : |\n",
            "|\u001b[35mY\u001b[0m| : |\u001b[34;1mB\u001b[0m: |\n",
            "+---------+\n",
            "\n"
          ],
          "name": "stdout"
        },
        {
          "output_type": "execute_result",
          "data": {
            "text/plain": [
              "{0: [(1.0, 254, -1, False)],\n",
              " 1: [(1.0, 54, -1, False)],\n",
              " 2: [(1.0, 174, -1, False)],\n",
              " 3: [(1.0, 154, -1, False)],\n",
              " 4: [(1.0, 154, -10, False)],\n",
              " 5: [(1.0, 154, -10, False)]}"
            ]
          },
          "metadata": {
            "tags": []
          },
          "execution_count": 63
        }
      ]
    },
    {
      "cell_type": "markdown",
      "metadata": {
        "id": "p94keEcZ9ZfO"
      },
      "source": [
        "Q-table 초기화"
      ]
    },
    {
      "cell_type": "code",
      "metadata": {
        "id": "L1_DJ1WS8cYW"
      },
      "source": [
        "import numpy as np\r\n",
        "q_table=np.zeros([env.observation_space.n, env.action_space.n])"
      ],
      "execution_count": null,
      "outputs": []
    },
    {
      "cell_type": "code",
      "metadata": {
        "colab": {
          "base_uri": "https://localhost:8080/"
        },
        "id": "rbdnbowJ9elF",
        "outputId": "60ebf94e-c1ca-4684-dfb5-61205ee5fc53"
      },
      "source": [
        "import random\r\n",
        "from IPython.display import clear_output\r\n",
        "\r\n",
        "#Hyperparameters\r\n",
        "alpha=0.1 #learning rate(배움 척도쯤 되겠당)\r\n",
        "gamma=0.6 #discount factor(장기적인 계획을 세우는 정도)\r\n",
        "epsilon=0.1 #호기심 척도\r\n",
        "\r\n",
        "#for plottings\r\n",
        "all_epochs=[]\r\n",
        "all_penalties=[]\r\n",
        "frames=[]\r\n",
        "\r\n",
        "#actually doing it\r\n",
        "for i in range(1, 100001):\r\n",
        "    #reset\r\n",
        "    state=env.reset()\r\n",
        "    epochs=0\r\n",
        "    penalties=0      #한글이랑 영어를 섞어서 쓴 이유: 한/영키 치기 귀찮아서\r\n",
        "    reward=0\r\n",
        "    done=False\r\n",
        "\r\n",
        "    while not done:\r\n",
        "        if random.uniform(0, 1)<epsilon: #0과 1 사이의 실수 리턴, 즉 랜덤으로 어떤 행동을 할지 결정 \r\n",
        "            action=env.action_space.sample() #choose a random action\r\n",
        "        else:\r\n",
        "            action=np.argmax(q_table[state]) #do what's in the q_table\r\n",
        "        \r\n",
        "        next_state, reward, done, info=env.step(action) #do the action\r\n",
        "\r\n",
        "        old_value=q_table[state, action] #what it was supposed to do according to the q_table\r\n",
        "        next_max=np.max(q_table[next_state]) #most suitable thing to do next according to the q_table\r\n",
        "\r\n",
        "        new_value=(1-alpha)*old_value+alpha*(reward+gamma*next_max) #probably somthing like bellman equation\r\n",
        "        q_table[state, action]=new_value #updating the q_table\r\n",
        "\r\n",
        "        if reward==-10:\r\n",
        "            penalties+=1 #give penalties\r\n",
        "\r\n",
        "        state=next_state\r\n",
        "        epochs +=1\r\n",
        "\r\n",
        "    if i%100==0:\r\n",
        "        clear_output(wait=True)\r\n",
        "        print(\"*simpsons opening song* episode: \"+str(i))\r\n",
        "\r\n",
        "print(\"whew... it was hard\")\r\n"
      ],
      "execution_count": null,
      "outputs": [
        {
          "output_type": "stream",
          "text": [
            "*simpsons opening song* episode: 100000\n",
            "whew... it was hard\n"
          ],
          "name": "stdout"
        }
      ]
    },
    {
      "cell_type": "markdown",
      "metadata": {
        "id": "PIFZ9XHXDp4v"
      },
      "source": [
        "와 진짜 오래걸리네        \r\n",
        "언제되냐...        \r\n",
        "이제 6000이네...       \r\n",
        "자야되는데...       \r\n",
        "2021_02_10 22:09 이제 9000대다..!      \r\n",
        "아씨 10000인줄 알았는데 100000이었어      \r\n",
        "켜두고 잘까     \r\n",
        "잘준비부터 해야지...       \r\n",
        "양치질 하는중    \r\n",
        "칰카치카    \r\n",
        "애니메이션 보여주는 걸로 뭐하는지 볼 수 ㅇ;ㅆ지 않을까     \r\n",
        "일단 한바퀴마다 env,render()를 넣긴 했는데 실행중이라 다시 실헹을 못함..     \r\n",
        "걍 5만인데 다시 해야징     \r\n",
        "조아 트레이닝 재개해따   \r\n",
        "우와 다대따"
      ]
    },
    {
      "cell_type": "code",
      "metadata": {
        "colab": {
          "base_uri": "https://localhost:8080/",
          "height": 401
        },
        "id": "kPUzNemfIg2m",
        "outputId": "6cc080e2-7d40-429f-a516-550a4d4a0868"
      },
      "source": [
        "from IPython.display import clear_output\r\n",
        "from time import sleep\r\n",
        "from random import randint\r\n",
        "\r\n",
        "while True:\r\n",
        "    env.reset()\r\n",
        "    done=False\r\n",
        "    while not done:\r\n",
        "        action=np.argmax(q_table[state])\r\n",
        "        next_state, reward, done, info=env.step(action)\r\n",
        "        state=next_state\r\n",
        "        clear_output(wait=True)\r\n",
        "        print(state)\r\n",
        "        env.render()\r\n",
        "        sleep(0.3)\r\n",
        "    print(\"another taxiwork done.\")\r\n",
        "    sleep(0.7)"
      ],
      "execution_count": null,
      "outputs": [
        {
          "output_type": "stream",
          "text": [
            "353\n",
            "+---------+\n",
            "|R: | : :\u001b[35mG\u001b[0m|\n",
            "| : | : : |\n",
            "| : : : : |\n",
            "| | :\u001b[43m \u001b[0m| : |\n",
            "|Y| : |\u001b[34;1mB\u001b[0m: |\n",
            "+---------+\n",
            "  (East)\n"
          ],
          "name": "stdout"
        },
        {
          "output_type": "error",
          "ename": "KeyboardInterrupt",
          "evalue": "ignored",
          "traceback": [
            "\u001b[0;31m---------------------------------------------------------------------------\u001b[0m",
            "\u001b[0;31mKeyboardInterrupt\u001b[0m                         Traceback (most recent call last)",
            "\u001b[0;32m<ipython-input-64-4741eba8323c>\u001b[0m in \u001b[0;36m<module>\u001b[0;34m()\u001b[0m\n\u001b[1;32m     13\u001b[0m         \u001b[0mprint\u001b[0m\u001b[0;34m(\u001b[0m\u001b[0mstate\u001b[0m\u001b[0;34m)\u001b[0m\u001b[0;34m\u001b[0m\u001b[0;34m\u001b[0m\u001b[0m\n\u001b[1;32m     14\u001b[0m         \u001b[0menv\u001b[0m\u001b[0;34m.\u001b[0m\u001b[0mrender\u001b[0m\u001b[0;34m(\u001b[0m\u001b[0;34m)\u001b[0m\u001b[0;34m\u001b[0m\u001b[0;34m\u001b[0m\u001b[0m\n\u001b[0;32m---> 15\u001b[0;31m         \u001b[0msleep\u001b[0m\u001b[0;34m(\u001b[0m\u001b[0;36m0.3\u001b[0m\u001b[0;34m)\u001b[0m\u001b[0;34m\u001b[0m\u001b[0;34m\u001b[0m\u001b[0m\n\u001b[0m\u001b[1;32m     16\u001b[0m     \u001b[0mprint\u001b[0m\u001b[0;34m(\u001b[0m\u001b[0;34m\"another taxiwork done.\"\u001b[0m\u001b[0;34m)\u001b[0m\u001b[0;34m\u001b[0m\u001b[0;34m\u001b[0m\u001b[0m\n\u001b[1;32m     17\u001b[0m     \u001b[0msleep\u001b[0m\u001b[0;34m(\u001b[0m\u001b[0;36m0.7\u001b[0m\u001b[0;34m)\u001b[0m\u001b[0;34m\u001b[0m\u001b[0;34m\u001b[0m\u001b[0m\n",
            "\u001b[0;31mKeyboardInterrupt\u001b[0m: "
          ]
        }
      ]
    },
    {
      "cell_type": "code",
      "metadata": {
        "colab": {
          "base_uri": "https://localhost:8080/"
        },
        "id": "obKa5WaVvEFQ",
        "outputId": "d7ae4957-7e95-403f-a43b-caa137aad912"
      },
      "source": [
        "env.s=randint(0, 300)\r\n",
        "env.render()\r\n",
        "print(state)"
      ],
      "execution_count": null,
      "outputs": [
        {
          "output_type": "stream",
          "text": [
            "+---------+\n",
            "|R: | : :G|\n",
            "| : | : :\u001b[42m_\u001b[0m|\n",
            "| : : : : |\n",
            "| | : | : |\n",
            "|\u001b[35mY\u001b[0m| : |B: |\n",
            "+---------+\n",
            "  (East)\n",
            "353\n"
          ],
          "name": "stdout"
        }
      ]
    },
    {
      "cell_type": "markdown",
      "metadata": {
        "id": "S1062ri9SwoK"
      },
      "source": [
        "이건 왜 안됨...?"
      ]
    },
    {
      "cell_type": "code",
      "metadata": {
        "colab": {
          "base_uri": "https://localhost:8080/",
          "height": 205
        },
        "id": "G9siqsdR0mtW",
        "outputId": "781f5ffc-639f-4fa2-bf58-20169e87f526"
      },
      "source": [
        "import gym\r\n",
        "\r\n",
        "env=gym.make(\"Breakout-v4\").env\r\n",
        "print(env.step(env.action_space))"
      ],
      "execution_count": null,
      "outputs": [
        {
          "output_type": "error",
          "ename": "TypeError",
          "evalue": "ignored",
          "traceback": [
            "\u001b[0;31m---------------------------------------------------------------------------\u001b[0m",
            "\u001b[0;31mTypeError\u001b[0m                                 Traceback (most recent call last)",
            "\u001b[0;32m<ipython-input-72-caf041776f03>\u001b[0m in \u001b[0;36m<module>\u001b[0;34m()\u001b[0m\n\u001b[1;32m      2\u001b[0m \u001b[0;34m\u001b[0m\u001b[0m\n\u001b[1;32m      3\u001b[0m \u001b[0menv\u001b[0m\u001b[0;34m=\u001b[0m\u001b[0mgym\u001b[0m\u001b[0;34m.\u001b[0m\u001b[0mmake\u001b[0m\u001b[0;34m(\u001b[0m\u001b[0;34m\"Breakout-v4\"\u001b[0m\u001b[0;34m)\u001b[0m\u001b[0;34m.\u001b[0m\u001b[0menv\u001b[0m\u001b[0;34m\u001b[0m\u001b[0;34m\u001b[0m\u001b[0m\n\u001b[0;32m----> 4\u001b[0;31m \u001b[0mprint\u001b[0m\u001b[0;34m(\u001b[0m\u001b[0menv\u001b[0m\u001b[0;34m.\u001b[0m\u001b[0mstep\u001b[0m\u001b[0;34m(\u001b[0m\u001b[0menv\u001b[0m\u001b[0;34m.\u001b[0m\u001b[0maction_space\u001b[0m\u001b[0;34m[\u001b[0m\u001b[0;36m0\u001b[0m\u001b[0;34m]\u001b[0m\u001b[0;34m)\u001b[0m\u001b[0;34m)\u001b[0m\u001b[0;34m\u001b[0m\u001b[0;34m\u001b[0m\u001b[0m\n\u001b[0m",
            "\u001b[0;31mTypeError\u001b[0m: 'Discrete' object does not support indexing"
          ]
        }
      ]
    },
    {
      "cell_type": "markdown",
      "metadata": {
        "id": "4klARIhgRWRD"
      },
      "source": [
        "이미지 API 함 써보즈아(안됨)"
      ]
    },
    {
      "cell_type": "code",
      "metadata": {
        "colab": {
          "base_uri": "https://localhost:8080/",
          "height": 383
        },
        "id": "b8A0Aw_ORdkT",
        "outputId": "fbad9dd6-2e7d-4722-fdb3-5cc0c1de0929"
      },
      "source": [
        "import urllib2\r\n",
        "import simplejson\r\n",
        "import cStringIO\r\n",
        "\r\n",
        "fetcher = urllib2.build_opener()\r\n",
        "searchTerm = 'parrot'\r\n",
        "startIndex = 0\r\n",
        "searchUrl = \"http://ajax.googleapis.com/ajax/services/search/images?v=1.0&q=\" + searchTerm + \"&start=\" + startIndex\r\n",
        "f = fetcher.open(searchUrl)\r\n",
        "deserialized_output = simplejson.load(f)\r\n",
        "\r\n",
        "imageUrl = deserialized_output['responseData']['results'][0]['unescapedUrl']\r\n",
        "file = cStringIO.StringIO(urllib.urlopen(imageUrl).read())\r\n",
        "img = Image.open(file)"
      ],
      "execution_count": null,
      "outputs": [
        {
          "output_type": "error",
          "ename": "ModuleNotFoundError",
          "evalue": "ignored",
          "traceback": [
            "\u001b[0;31m---------------------------------------------------------------------------\u001b[0m",
            "\u001b[0;31mModuleNotFoundError\u001b[0m                       Traceback (most recent call last)",
            "\u001b[0;32m<ipython-input-75-dfa078ebaebc>\u001b[0m in \u001b[0;36m<module>\u001b[0;34m()\u001b[0m\n\u001b[0;32m----> 1\u001b[0;31m \u001b[0;32mimport\u001b[0m \u001b[0murllib2\u001b[0m\u001b[0;34m\u001b[0m\u001b[0;34m\u001b[0m\u001b[0m\n\u001b[0m\u001b[1;32m      2\u001b[0m \u001b[0;32mimport\u001b[0m \u001b[0msimplejson\u001b[0m\u001b[0;34m\u001b[0m\u001b[0;34m\u001b[0m\u001b[0m\n\u001b[1;32m      3\u001b[0m \u001b[0;32mimport\u001b[0m \u001b[0mcStringIO\u001b[0m\u001b[0;34m\u001b[0m\u001b[0;34m\u001b[0m\u001b[0m\n\u001b[1;32m      4\u001b[0m \u001b[0;34m\u001b[0m\u001b[0m\n\u001b[1;32m      5\u001b[0m \u001b[0mfetcher\u001b[0m \u001b[0;34m=\u001b[0m \u001b[0murllib2\u001b[0m\u001b[0;34m.\u001b[0m\u001b[0mbuild_opener\u001b[0m\u001b[0;34m(\u001b[0m\u001b[0;34m)\u001b[0m\u001b[0;34m\u001b[0m\u001b[0;34m\u001b[0m\u001b[0m\n",
            "\u001b[0;31mModuleNotFoundError\u001b[0m: No module named 'urllib2'",
            "",
            "\u001b[0;31m---------------------------------------------------------------------------\u001b[0;32m\nNOTE: If your import is failing due to a missing package, you can\nmanually install dependencies using either !pip or !apt.\n\nTo view examples of installing some common dependencies, click the\n\"Open Examples\" button below.\n\u001b[0;31m---------------------------------------------------------------------------\u001b[0m\n"
          ]
        }
      ]
    }
  ]
}